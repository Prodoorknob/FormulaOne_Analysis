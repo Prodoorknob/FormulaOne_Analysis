{
 "cells": [
  {
   "cell_type": "code",
   "execution_count": 1,
   "metadata": {
    "_cell_guid": "b1076dfc-b9ad-4769-8c92-a6c4dae69d19",
    "_uuid": "8f2839f25d086af736a60e9eeb907d3b93b6e0e5",
    "execution": {
     "iopub.execute_input": "2021-03-31T15:43:42.989804Z",
     "iopub.status.busy": "2021-03-31T15:43:42.989116Z",
     "iopub.status.idle": "2021-03-31T15:43:43.003856Z",
     "shell.execute_reply": "2021-03-31T15:43:43.003099Z"
    },
    "papermill": {
     "duration": 0.044769,
     "end_time": "2021-03-31T15:43:43.004078",
     "exception": false,
     "start_time": "2021-03-31T15:43:42.959309",
     "status": "completed"
    },
    "tags": []
   },
   "outputs": [
    {
     "name": "stdout",
     "output_type": "stream",
     "text": [
      "/kaggle/input/formula1/races.csv\n",
      "/kaggle/input/formula1/constructor_results.csv\n",
      "/kaggle/input/formula1/drivers.csv\n",
      "/kaggle/input/formula1/constructors.csv\n",
      "/kaggle/input/formula1/lap_times.csv\n",
      "/kaggle/input/formula1/status.csv\n",
      "/kaggle/input/formula1/driver_standings.csv\n",
      "/kaggle/input/formula1/seasons.csv\n",
      "/kaggle/input/formula1/pit_stops.csv\n",
      "/kaggle/input/formula1/constructor_standings.csv\n",
      "/kaggle/input/formula1/results.csv\n",
      "/kaggle/input/formula1/circuits.csv\n",
      "/kaggle/input/formula1/qualifying.csv\n"
     ]
    }
   ],
   "source": [
    "# This Python 3 environment comes with many helpful analytics libraries installed\n",
    "# It is defined by the kaggle/python Docker image: https://github.com/kaggle/docker-python\n",
    "# For example, here's several helpful packages to load\n",
    "\n",
    "import numpy as np # linear algebra\n",
    "import pandas as pd # data processing, CSV file I/O (e.g. pd.read_csv)\n",
    "\n",
    "# Input data files are available in the read-only \"../input/\" directory\n",
    "# For example, running this (by clicking run or pressing Shift+Enter) will list all files under the input directory\n",
    "\n",
    "import os\n",
    "for dirname, _, filenames in os.walk('/kaggle/input'):\n",
    "    for filename in filenames:\n",
    "        print(os.path.join(dirname, filename))\n",
    "\n",
    "# You can write up to 20GB to the current directory (/kaggle/working/) that gets preserved as output when you create a version using \"Save & Run All\" \n",
    "# You can also write temporary files to /kaggle/temp/, but they won't be saved outside of the current session"
   ]
  },
  {
   "cell_type": "code",
   "execution_count": 2,
   "metadata": {
    "execution": {
     "iopub.execute_input": "2021-03-31T15:43:43.055265Z",
     "iopub.status.busy": "2021-03-31T15:43:43.054294Z",
     "iopub.status.idle": "2021-03-31T15:43:43.057382Z",
     "shell.execute_reply": "2021-03-31T15:43:43.056717Z"
    },
    "papermill": {
     "duration": 0.030123,
     "end_time": "2021-03-31T15:43:43.057527",
     "exception": false,
     "start_time": "2021-03-31T15:43:43.027404",
     "status": "completed"
    },
    "tags": []
   },
   "outputs": [],
   "source": [
    "import pandas as pd \n",
    "import numpy as np\n",
    "import matplotlib.pyplot as plt\n",
    "import re\n",
    "import datetime"
   ]
  },
  {
   "cell_type": "code",
   "execution_count": 3,
   "metadata": {
    "execution": {
     "iopub.execute_input": "2021-03-31T15:43:43.110548Z",
     "iopub.status.busy": "2021-03-31T15:43:43.109831Z",
     "iopub.status.idle": "2021-03-31T15:43:43.831390Z",
     "shell.execute_reply": "2021-03-31T15:43:43.830679Z"
    },
    "papermill": {
     "duration": 0.750966,
     "end_time": "2021-03-31T15:43:43.831546",
     "exception": false,
     "start_time": "2021-03-31T15:43:43.080580",
     "status": "completed"
    },
    "tags": []
   },
   "outputs": [],
   "source": [
    "path=\"/kaggle/input/formula1/\"\n",
    "constructors_raw=pd.read_csv(path+\"constructors.csv\")\n",
    "constructors_st_raw=pd.read_csv(path+\"constructor_standings.csv\")\n",
    "constructors_res_raw=pd.read_csv(path+\"constructor_results.csv\")\n",
    "drivers_raw=pd.read_csv(path+\"drivers.csv\")\n",
    "driver_st_raw=pd.read_csv(path+\"driver_standings.csv\")\n",
    "results_raw=pd.read_csv(path+\"results.csv\")\n",
    "status=pd.read_csv(path+\"status.csv\")\n",
    "races_raw=pd.read_csv(path+\"races.csv\")\n",
    "pit_stops_raw=pd.read_csv(path+\"pit_stops.csv\")\n",
    "quali_raw=pd.read_csv(path+\"qualifying.csv\")\n",
    "lap_times_raw=pd.read_csv(path+\"lap_times.csv\")"
   ]
  },
  {
   "cell_type": "code",
   "execution_count": 4,
   "metadata": {
    "execution": {
     "iopub.execute_input": "2021-03-31T15:43:43.897112Z",
     "iopub.status.busy": "2021-03-31T15:43:43.896262Z",
     "iopub.status.idle": "2021-03-31T15:43:43.971104Z",
     "shell.execute_reply": "2021-03-31T15:43:43.971643Z"
    },
    "papermill": {
     "duration": 0.116649,
     "end_time": "2021-03-31T15:43:43.971843",
     "exception": false,
     "start_time": "2021-03-31T15:43:43.855194",
     "status": "completed"
    },
    "tags": []
   },
   "outputs": [
    {
     "data": {
      "text/html": [
       "<div>\n",
       "<style scoped>\n",
       "    .dataframe tbody tr th:only-of-type {\n",
       "        vertical-align: middle;\n",
       "    }\n",
       "\n",
       "    .dataframe tbody tr th {\n",
       "        vertical-align: top;\n",
       "    }\n",
       "\n",
       "    .dataframe thead th {\n",
       "        text-align: right;\n",
       "    }\n",
       "</style>\n",
       "<table border=\"1\" class=\"dataframe\">\n",
       "  <thead>\n",
       "    <tr style=\"text-align: right;\">\n",
       "      <th></th>\n",
       "      <th>resultId</th>\n",
       "      <th>raceId</th>\n",
       "      <th>driverId</th>\n",
       "      <th>constructorId</th>\n",
       "      <th>number</th>\n",
       "      <th>grid</th>\n",
       "      <th>position</th>\n",
       "      <th>positionText</th>\n",
       "      <th>positionOrder</th>\n",
       "      <th>points</th>\n",
       "      <th>laps</th>\n",
       "      <th>time</th>\n",
       "      <th>milliseconds</th>\n",
       "      <th>fastestLap</th>\n",
       "      <th>rank</th>\n",
       "      <th>fastestLapTime</th>\n",
       "      <th>fastestLapSpeed</th>\n",
       "      <th>statusId</th>\n",
       "      <th>status</th>\n",
       "    </tr>\n",
       "  </thead>\n",
       "  <tbody>\n",
       "    <tr>\n",
       "      <th>0</th>\n",
       "      <td>20779.0</td>\n",
       "      <td>841.0</td>\n",
       "      <td>20.0</td>\n",
       "      <td>9.0</td>\n",
       "      <td>1</td>\n",
       "      <td>1.0</td>\n",
       "      <td>1</td>\n",
       "      <td>1</td>\n",
       "      <td>1.0</td>\n",
       "      <td>25.0</td>\n",
       "      <td>58.0</td>\n",
       "      <td>1:29:30.259</td>\n",
       "      <td>5370259</td>\n",
       "      <td>44</td>\n",
       "      <td>4</td>\n",
       "      <td>1:29.844</td>\n",
       "      <td>212.488</td>\n",
       "      <td>1</td>\n",
       "      <td>Finished</td>\n",
       "    </tr>\n",
       "    <tr>\n",
       "      <th>1</th>\n",
       "      <td>20781.0</td>\n",
       "      <td>841.0</td>\n",
       "      <td>808.0</td>\n",
       "      <td>4.0</td>\n",
       "      <td>10</td>\n",
       "      <td>6.0</td>\n",
       "      <td>3</td>\n",
       "      <td>3</td>\n",
       "      <td>3.0</td>\n",
       "      <td>15.0</td>\n",
       "      <td>58.0</td>\n",
       "      <td>+30.560</td>\n",
       "      <td>5400819</td>\n",
       "      <td>55</td>\n",
       "      <td>7</td>\n",
       "      <td>1:30.064</td>\n",
       "      <td>211.969</td>\n",
       "      <td>1</td>\n",
       "      <td>Finished</td>\n",
       "    </tr>\n",
       "    <tr>\n",
       "      <th>2</th>\n",
       "      <td>20782.0</td>\n",
       "      <td>841.0</td>\n",
       "      <td>4.0</td>\n",
       "      <td>6.0</td>\n",
       "      <td>5</td>\n",
       "      <td>5.0</td>\n",
       "      <td>4</td>\n",
       "      <td>4</td>\n",
       "      <td>4.0</td>\n",
       "      <td>12.0</td>\n",
       "      <td>58.0</td>\n",
       "      <td>+31.772</td>\n",
       "      <td>5402031</td>\n",
       "      <td>49</td>\n",
       "      <td>2</td>\n",
       "      <td>1:29.487</td>\n",
       "      <td>213.336</td>\n",
       "      <td>1</td>\n",
       "      <td>Finished</td>\n",
       "    </tr>\n",
       "    <tr>\n",
       "      <th>3</th>\n",
       "      <td>20783.0</td>\n",
       "      <td>841.0</td>\n",
       "      <td>17.0</td>\n",
       "      <td>9.0</td>\n",
       "      <td>2</td>\n",
       "      <td>3.0</td>\n",
       "      <td>5</td>\n",
       "      <td>5</td>\n",
       "      <td>5.0</td>\n",
       "      <td>10.0</td>\n",
       "      <td>58.0</td>\n",
       "      <td>+38.171</td>\n",
       "      <td>5408430</td>\n",
       "      <td>50</td>\n",
       "      <td>3</td>\n",
       "      <td>1:29.600</td>\n",
       "      <td>213.066</td>\n",
       "      <td>1</td>\n",
       "      <td>Finished</td>\n",
       "    </tr>\n",
       "    <tr>\n",
       "      <th>4</th>\n",
       "      <td>20784.0</td>\n",
       "      <td>841.0</td>\n",
       "      <td>18.0</td>\n",
       "      <td>1.0</td>\n",
       "      <td>4</td>\n",
       "      <td>4.0</td>\n",
       "      <td>6</td>\n",
       "      <td>6</td>\n",
       "      <td>6.0</td>\n",
       "      <td>8.0</td>\n",
       "      <td>58.0</td>\n",
       "      <td>+54.304</td>\n",
       "      <td>5424563</td>\n",
       "      <td>49</td>\n",
       "      <td>5</td>\n",
       "      <td>1:29.883</td>\n",
       "      <td>212.396</td>\n",
       "      <td>1</td>\n",
       "      <td>Finished</td>\n",
       "    </tr>\n",
       "  </tbody>\n",
       "</table>\n",
       "</div>"
      ],
      "text/plain": [
       "   resultId  raceId  driverId  constructorId number  grid position  \\\n",
       "0   20779.0   841.0      20.0            9.0      1   1.0        1   \n",
       "1   20781.0   841.0     808.0            4.0     10   6.0        3   \n",
       "2   20782.0   841.0       4.0            6.0      5   5.0        4   \n",
       "3   20783.0   841.0      17.0            9.0      2   3.0        5   \n",
       "4   20784.0   841.0      18.0            1.0      4   4.0        6   \n",
       "\n",
       "  positionText  positionOrder  points  laps         time milliseconds  \\\n",
       "0            1            1.0    25.0  58.0  1:29:30.259      5370259   \n",
       "1            3            3.0    15.0  58.0      +30.560      5400819   \n",
       "2            4            4.0    12.0  58.0      +31.772      5402031   \n",
       "3            5            5.0    10.0  58.0      +38.171      5408430   \n",
       "4            6            6.0     8.0  58.0      +54.304      5424563   \n",
       "\n",
       "  fastestLap rank fastestLapTime fastestLapSpeed  statusId    status  \n",
       "0         44    4       1:29.844         212.488         1  Finished  \n",
       "1         55    7       1:30.064         211.969         1  Finished  \n",
       "2         49    2       1:29.487         213.336         1  Finished  \n",
       "3         50    3       1:29.600         213.066         1  Finished  \n",
       "4         49    5       1:29.883         212.396         1  Finished  "
      ]
     },
     "execution_count": 4,
     "metadata": {},
     "output_type": "execute_result"
    }
   ],
   "source": [
    "races_raw=races_raw[races_raw[\"raceId\"]>=841]\n",
    "races_raw=races_raw.sort_values([\"raceId\"],ascending=True)\n",
    "results_raw=results_raw[results_raw[\"raceId\"]>=841]\n",
    "results_raw=results_raw.sort_values([\"raceId\"],ascending=True)\n",
    "races_raw_int=results_raw.merge(status,how='outer')\n",
    "races_raw_int.head()"
   ]
  },
  {
   "cell_type": "code",
   "execution_count": 5,
   "metadata": {
    "execution": {
     "iopub.execute_input": "2021-03-31T15:43:44.024720Z",
     "iopub.status.busy": "2021-03-31T15:43:44.023721Z",
     "iopub.status.idle": "2021-03-31T15:43:44.044267Z",
     "shell.execute_reply": "2021-03-31T15:43:44.043668Z"
    },
    "papermill": {
     "duration": 0.049213,
     "end_time": "2021-03-31T15:43:44.044412",
     "exception": false,
     "start_time": "2021-03-31T15:43:43.995199",
     "status": "completed"
    },
    "tags": []
   },
   "outputs": [
    {
     "data": {
      "text/plain": [
       "Index(['raceId', 'year', 'round', 'circuitId', 'name', 'date', 'race_time',\n",
       "       'url', 'resultId', 'driverId', 'constructorId', 'number', 'grid',\n",
       "       'position', 'positionText', 'positionOrder', 'points', 'laps', 'time',\n",
       "       'milliseconds', 'fastestLap', 'rank', 'fastestLapTime',\n",
       "       'fastestLapSpeed', 'statusId', 'status'],\n",
       "      dtype='object')"
      ]
     },
     "execution_count": 5,
     "metadata": {},
     "output_type": "execute_result"
    }
   ],
   "source": [
    "results=races_raw.merge(races_raw_int,how='outer')\n",
    "results.columns"
   ]
  },
  {
   "cell_type": "code",
   "execution_count": 6,
   "metadata": {
    "execution": {
     "iopub.execute_input": "2021-03-31T15:43:44.098751Z",
     "iopub.status.busy": "2021-03-31T15:43:44.097743Z",
     "iopub.status.idle": "2021-03-31T15:43:44.132153Z",
     "shell.execute_reply": "2021-03-31T15:43:44.131454Z"
    },
    "papermill": {
     "duration": 0.063892,
     "end_time": "2021-03-31T15:43:44.132297",
     "exception": false,
     "start_time": "2021-03-31T15:43:44.068405",
     "status": "completed"
    },
    "tags": []
   },
   "outputs": [
    {
     "data": {
      "text/html": [
       "<div>\n",
       "<style scoped>\n",
       "    .dataframe tbody tr th:only-of-type {\n",
       "        vertical-align: middle;\n",
       "    }\n",
       "\n",
       "    .dataframe tbody tr th {\n",
       "        vertical-align: top;\n",
       "    }\n",
       "\n",
       "    .dataframe thead th {\n",
       "        text-align: right;\n",
       "    }\n",
       "</style>\n",
       "<table border=\"1\" class=\"dataframe\">\n",
       "  <thead>\n",
       "    <tr style=\"text-align: right;\">\n",
       "      <th></th>\n",
       "      <th>raceId</th>\n",
       "      <th>year</th>\n",
       "      <th>round</th>\n",
       "      <th>circuitId</th>\n",
       "      <th>name</th>\n",
       "      <th>date</th>\n",
       "      <th>race_time</th>\n",
       "      <th>driverId</th>\n",
       "      <th>constructorId</th>\n",
       "      <th>number</th>\n",
       "      <th>...</th>\n",
       "      <th>positionOrder</th>\n",
       "      <th>points</th>\n",
       "      <th>laps</th>\n",
       "      <th>time</th>\n",
       "      <th>milliseconds</th>\n",
       "      <th>fastestLap</th>\n",
       "      <th>rank</th>\n",
       "      <th>fastestLapTime</th>\n",
       "      <th>fastestLapSpeed</th>\n",
       "      <th>status</th>\n",
       "    </tr>\n",
       "  </thead>\n",
       "  <tbody>\n",
       "    <tr>\n",
       "      <th>0</th>\n",
       "      <td>841.0</td>\n",
       "      <td>2011.0</td>\n",
       "      <td>1.0</td>\n",
       "      <td>1.0</td>\n",
       "      <td>Australian Grand Prix</td>\n",
       "      <td>27-03-2011</td>\n",
       "      <td>06:00:00</td>\n",
       "      <td>20.0</td>\n",
       "      <td>9.0</td>\n",
       "      <td>1</td>\n",
       "      <td>...</td>\n",
       "      <td>1.0</td>\n",
       "      <td>25.0</td>\n",
       "      <td>58.0</td>\n",
       "      <td>1:29:30.259</td>\n",
       "      <td>5370259</td>\n",
       "      <td>44</td>\n",
       "      <td>4</td>\n",
       "      <td>1:29.844</td>\n",
       "      <td>212.488</td>\n",
       "      <td>Finished</td>\n",
       "    </tr>\n",
       "    <tr>\n",
       "      <th>1</th>\n",
       "      <td>841.0</td>\n",
       "      <td>2011.0</td>\n",
       "      <td>1.0</td>\n",
       "      <td>1.0</td>\n",
       "      <td>Australian Grand Prix</td>\n",
       "      <td>27-03-2011</td>\n",
       "      <td>06:00:00</td>\n",
       "      <td>808.0</td>\n",
       "      <td>4.0</td>\n",
       "      <td>10</td>\n",
       "      <td>...</td>\n",
       "      <td>3.0</td>\n",
       "      <td>15.0</td>\n",
       "      <td>58.0</td>\n",
       "      <td>+30.560</td>\n",
       "      <td>5400819</td>\n",
       "      <td>55</td>\n",
       "      <td>7</td>\n",
       "      <td>1:30.064</td>\n",
       "      <td>211.969</td>\n",
       "      <td>Finished</td>\n",
       "    </tr>\n",
       "    <tr>\n",
       "      <th>2</th>\n",
       "      <td>841.0</td>\n",
       "      <td>2011.0</td>\n",
       "      <td>1.0</td>\n",
       "      <td>1.0</td>\n",
       "      <td>Australian Grand Prix</td>\n",
       "      <td>27-03-2011</td>\n",
       "      <td>06:00:00</td>\n",
       "      <td>4.0</td>\n",
       "      <td>6.0</td>\n",
       "      <td>5</td>\n",
       "      <td>...</td>\n",
       "      <td>4.0</td>\n",
       "      <td>12.0</td>\n",
       "      <td>58.0</td>\n",
       "      <td>+31.772</td>\n",
       "      <td>5402031</td>\n",
       "      <td>49</td>\n",
       "      <td>2</td>\n",
       "      <td>1:29.487</td>\n",
       "      <td>213.336</td>\n",
       "      <td>Finished</td>\n",
       "    </tr>\n",
       "    <tr>\n",
       "      <th>3</th>\n",
       "      <td>841.0</td>\n",
       "      <td>2011.0</td>\n",
       "      <td>1.0</td>\n",
       "      <td>1.0</td>\n",
       "      <td>Australian Grand Prix</td>\n",
       "      <td>27-03-2011</td>\n",
       "      <td>06:00:00</td>\n",
       "      <td>17.0</td>\n",
       "      <td>9.0</td>\n",
       "      <td>2</td>\n",
       "      <td>...</td>\n",
       "      <td>5.0</td>\n",
       "      <td>10.0</td>\n",
       "      <td>58.0</td>\n",
       "      <td>+38.171</td>\n",
       "      <td>5408430</td>\n",
       "      <td>50</td>\n",
       "      <td>3</td>\n",
       "      <td>1:29.600</td>\n",
       "      <td>213.066</td>\n",
       "      <td>Finished</td>\n",
       "    </tr>\n",
       "    <tr>\n",
       "      <th>4</th>\n",
       "      <td>841.0</td>\n",
       "      <td>2011.0</td>\n",
       "      <td>1.0</td>\n",
       "      <td>1.0</td>\n",
       "      <td>Australian Grand Prix</td>\n",
       "      <td>27-03-2011</td>\n",
       "      <td>06:00:00</td>\n",
       "      <td>18.0</td>\n",
       "      <td>1.0</td>\n",
       "      <td>4</td>\n",
       "      <td>...</td>\n",
       "      <td>6.0</td>\n",
       "      <td>8.0</td>\n",
       "      <td>58.0</td>\n",
       "      <td>+54.304</td>\n",
       "      <td>5424563</td>\n",
       "      <td>49</td>\n",
       "      <td>5</td>\n",
       "      <td>1:29.883</td>\n",
       "      <td>212.396</td>\n",
       "      <td>Finished</td>\n",
       "    </tr>\n",
       "  </tbody>\n",
       "</table>\n",
       "<p>5 rows × 22 columns</p>\n",
       "</div>"
      ],
      "text/plain": [
       "   raceId    year  round  circuitId                   name        date  \\\n",
       "0   841.0  2011.0    1.0        1.0  Australian Grand Prix  27-03-2011   \n",
       "1   841.0  2011.0    1.0        1.0  Australian Grand Prix  27-03-2011   \n",
       "2   841.0  2011.0    1.0        1.0  Australian Grand Prix  27-03-2011   \n",
       "3   841.0  2011.0    1.0        1.0  Australian Grand Prix  27-03-2011   \n",
       "4   841.0  2011.0    1.0        1.0  Australian Grand Prix  27-03-2011   \n",
       "\n",
       "  race_time  driverId  constructorId number  ...  positionOrder points  laps  \\\n",
       "0  06:00:00      20.0            9.0      1  ...            1.0   25.0  58.0   \n",
       "1  06:00:00     808.0            4.0     10  ...            3.0   15.0  58.0   \n",
       "2  06:00:00       4.0            6.0      5  ...            4.0   12.0  58.0   \n",
       "3  06:00:00      17.0            9.0      2  ...            5.0   10.0  58.0   \n",
       "4  06:00:00      18.0            1.0      4  ...            6.0    8.0  58.0   \n",
       "\n",
       "          time  milliseconds fastestLap rank fastestLapTime fastestLapSpeed  \\\n",
       "0  1:29:30.259       5370259         44    4       1:29.844         212.488   \n",
       "1      +30.560       5400819         55    7       1:30.064         211.969   \n",
       "2      +31.772       5402031         49    2       1:29.487         213.336   \n",
       "3      +38.171       5408430         50    3       1:29.600         213.066   \n",
       "4      +54.304       5424563         49    5       1:29.883         212.396   \n",
       "\n",
       "     status  \n",
       "0  Finished  \n",
       "1  Finished  \n",
       "2  Finished  \n",
       "3  Finished  \n",
       "4  Finished  \n",
       "\n",
       "[5 rows x 22 columns]"
      ]
     },
     "execution_count": 6,
     "metadata": {},
     "output_type": "execute_result"
    }
   ],
   "source": [
    "results_drop=['url','resultId','positionText','statusId']\n",
    "results=results.drop(columns=results_drop,axis=1)\n",
    "results.head()"
   ]
  },
  {
   "cell_type": "code",
   "execution_count": 7,
   "metadata": {
    "execution": {
     "iopub.execute_input": "2021-03-31T15:43:44.193310Z",
     "iopub.status.busy": "2021-03-31T15:43:44.188743Z",
     "iopub.status.idle": "2021-03-31T15:43:44.200741Z",
     "shell.execute_reply": "2021-03-31T15:43:44.201216Z"
    },
    "papermill": {
     "duration": 0.044285,
     "end_time": "2021-03-31T15:43:44.201389",
     "exception": false,
     "start_time": "2021-03-31T15:43:44.157104",
     "status": "completed"
    },
    "tags": []
   },
   "outputs": [
    {
     "data": {
      "text/plain": [
       "(853, 5)"
      ]
     },
     "execution_count": 7,
     "metadata": {},
     "output_type": "execute_result"
    }
   ],
   "source": [
    "col=[\"driverRef\",\"number\",\"code\",\"url\"]\n",
    "drivers_raw=drivers_raw.drop(col,axis=1)\n",
    "drivers_raw['dob']=pd.to_datetime(drivers_raw['dob'])\n",
    "drivers_raw['Age']=2021-drivers_raw['dob'].dt.year\n",
    "drivers_raw=drivers_raw.drop(\"dob\",axis=1)\n",
    "drivers_raw.shape"
   ]
  },
  {
   "cell_type": "code",
   "execution_count": 8,
   "metadata": {
    "execution": {
     "iopub.execute_input": "2021-03-31T15:43:44.258428Z",
     "iopub.status.busy": "2021-03-31T15:43:44.257605Z",
     "iopub.status.idle": "2021-03-31T15:43:44.275050Z",
     "shell.execute_reply": "2021-03-31T15:43:44.275487Z"
    },
    "papermill": {
     "duration": 0.049297,
     "end_time": "2021-03-31T15:43:44.275676",
     "exception": false,
     "start_time": "2021-03-31T15:43:44.226379",
     "status": "completed"
    },
    "tags": []
   },
   "outputs": [
    {
     "data": {
      "text/html": [
       "<div>\n",
       "<style scoped>\n",
       "    .dataframe tbody tr th:only-of-type {\n",
       "        vertical-align: middle;\n",
       "    }\n",
       "\n",
       "    .dataframe tbody tr th {\n",
       "        vertical-align: top;\n",
       "    }\n",
       "\n",
       "    .dataframe thead th {\n",
       "        text-align: right;\n",
       "    }\n",
       "</style>\n",
       "<table border=\"1\" class=\"dataframe\">\n",
       "  <thead>\n",
       "    <tr style=\"text-align: right;\">\n",
       "      <th></th>\n",
       "      <th>driverId</th>\n",
       "      <th>raceId</th>\n",
       "      <th>points</th>\n",
       "      <th>position</th>\n",
       "    </tr>\n",
       "  </thead>\n",
       "  <tbody>\n",
       "    <tr>\n",
       "      <th>28439</th>\n",
       "      <td>1</td>\n",
       "      <td>841</td>\n",
       "      <td>18.0</td>\n",
       "      <td>2</td>\n",
       "    </tr>\n",
       "    <tr>\n",
       "      <th>28429</th>\n",
       "      <td>2</td>\n",
       "      <td>841</td>\n",
       "      <td>0.0</td>\n",
       "      <td>12</td>\n",
       "    </tr>\n",
       "    <tr>\n",
       "      <th>28423</th>\n",
       "      <td>3</td>\n",
       "      <td>841</td>\n",
       "      <td>0.0</td>\n",
       "      <td>17</td>\n",
       "    </tr>\n",
       "    <tr>\n",
       "      <th>28437</th>\n",
       "      <td>4</td>\n",
       "      <td>841</td>\n",
       "      <td>12.0</td>\n",
       "      <td>4</td>\n",
       "    </tr>\n",
       "    <tr>\n",
       "      <th>28422</th>\n",
       "      <td>5</td>\n",
       "      <td>841</td>\n",
       "      <td>0.0</td>\n",
       "      <td>18</td>\n",
       "    </tr>\n",
       "  </tbody>\n",
       "</table>\n",
       "</div>"
      ],
      "text/plain": [
       "       driverId  raceId  points  position\n",
       "28439         1     841    18.0         2\n",
       "28429         2     841     0.0        12\n",
       "28423         3     841     0.0        17\n",
       "28437         4     841    12.0         4\n",
       "28422         5     841     0.0        18"
      ]
     },
     "execution_count": 8,
     "metadata": {},
     "output_type": "execute_result"
    }
   ],
   "source": [
    "# driver_index=driver_st_raw.loc[driver_st_raw[\"raceId\"]== 841].index.min()\n",
    "# driver_st_raw=driver_st_raw[driver_index:]\n",
    "#driver_st_raw=driver_st_raw.sort_values([\"raceId\",\"driverId\"],ascending=True)\n",
    "#driver_st_raw.head(10)\n",
    "# driver_st_raw.loc[driver_st_raw[\"raceId\"]== 841].index\n",
    "driver_st_raw=driver_st_raw[driver_st_raw[\"raceId\"]>=841]\n",
    "driver_st_raw=driver_st_raw.sort_values([\"raceId\",\"driverId\"],ascending=True)\n",
    "drop_columns=['positionText','wins','driverStandingsId']\n",
    "driver_st_raw=driver_st_raw.drop(columns=drop_columns,axis=1)\n",
    "driver_st_raw.head()"
   ]
  },
  {
   "cell_type": "code",
   "execution_count": 9,
   "metadata": {
    "execution": {
     "iopub.execute_input": "2021-03-31T15:43:44.334673Z",
     "iopub.status.busy": "2021-03-31T15:43:44.334018Z",
     "iopub.status.idle": "2021-03-31T15:43:44.354362Z",
     "shell.execute_reply": "2021-03-31T15:43:44.354875Z"
    },
    "papermill": {
     "duration": 0.053729,
     "end_time": "2021-03-31T15:43:44.355065",
     "exception": false,
     "start_time": "2021-03-31T15:43:44.301336",
     "status": "completed"
    },
    "tags": []
   },
   "outputs": [
    {
     "data": {
      "text/html": [
       "<div>\n",
       "<style scoped>\n",
       "    .dataframe tbody tr th:only-of-type {\n",
       "        vertical-align: middle;\n",
       "    }\n",
       "\n",
       "    .dataframe tbody tr th {\n",
       "        vertical-align: top;\n",
       "    }\n",
       "\n",
       "    .dataframe thead th {\n",
       "        text-align: right;\n",
       "    }\n",
       "</style>\n",
       "<table border=\"1\" class=\"dataframe\">\n",
       "  <thead>\n",
       "    <tr style=\"text-align: right;\">\n",
       "      <th></th>\n",
       "      <th>driverId</th>\n",
       "      <th>forename</th>\n",
       "      <th>surname</th>\n",
       "      <th>nationality</th>\n",
       "      <th>Age</th>\n",
       "      <th>raceId</th>\n",
       "      <th>points</th>\n",
       "      <th>position</th>\n",
       "    </tr>\n",
       "  </thead>\n",
       "  <tbody>\n",
       "    <tr>\n",
       "      <th>0</th>\n",
       "      <td>1</td>\n",
       "      <td>Lewis</td>\n",
       "      <td>Hamilton</td>\n",
       "      <td>British</td>\n",
       "      <td>36</td>\n",
       "      <td>841.0</td>\n",
       "      <td>18.0</td>\n",
       "      <td>2.0</td>\n",
       "    </tr>\n",
       "    <tr>\n",
       "      <th>1</th>\n",
       "      <td>1</td>\n",
       "      <td>Lewis</td>\n",
       "      <td>Hamilton</td>\n",
       "      <td>British</td>\n",
       "      <td>36</td>\n",
       "      <td>842.0</td>\n",
       "      <td>22.0</td>\n",
       "      <td>3.0</td>\n",
       "    </tr>\n",
       "    <tr>\n",
       "      <th>2</th>\n",
       "      <td>1</td>\n",
       "      <td>Lewis</td>\n",
       "      <td>Hamilton</td>\n",
       "      <td>British</td>\n",
       "      <td>36</td>\n",
       "      <td>843.0</td>\n",
       "      <td>47.0</td>\n",
       "      <td>2.0</td>\n",
       "    </tr>\n",
       "    <tr>\n",
       "      <th>3</th>\n",
       "      <td>1</td>\n",
       "      <td>Lewis</td>\n",
       "      <td>Hamilton</td>\n",
       "      <td>British</td>\n",
       "      <td>36</td>\n",
       "      <td>844.0</td>\n",
       "      <td>59.0</td>\n",
       "      <td>2.0</td>\n",
       "    </tr>\n",
       "    <tr>\n",
       "      <th>4</th>\n",
       "      <td>1</td>\n",
       "      <td>Lewis</td>\n",
       "      <td>Hamilton</td>\n",
       "      <td>British</td>\n",
       "      <td>36</td>\n",
       "      <td>845.0</td>\n",
       "      <td>77.0</td>\n",
       "      <td>2.0</td>\n",
       "    </tr>\n",
       "    <tr>\n",
       "      <th>5</th>\n",
       "      <td>1</td>\n",
       "      <td>Lewis</td>\n",
       "      <td>Hamilton</td>\n",
       "      <td>British</td>\n",
       "      <td>36</td>\n",
       "      <td>846.0</td>\n",
       "      <td>85.0</td>\n",
       "      <td>2.0</td>\n",
       "    </tr>\n",
       "    <tr>\n",
       "      <th>6</th>\n",
       "      <td>1</td>\n",
       "      <td>Lewis</td>\n",
       "      <td>Hamilton</td>\n",
       "      <td>British</td>\n",
       "      <td>36</td>\n",
       "      <td>847.0</td>\n",
       "      <td>85.0</td>\n",
       "      <td>4.0</td>\n",
       "    </tr>\n",
       "    <tr>\n",
       "      <th>7</th>\n",
       "      <td>1</td>\n",
       "      <td>Lewis</td>\n",
       "      <td>Hamilton</td>\n",
       "      <td>British</td>\n",
       "      <td>36</td>\n",
       "      <td>848.0</td>\n",
       "      <td>97.0</td>\n",
       "      <td>4.0</td>\n",
       "    </tr>\n",
       "    <tr>\n",
       "      <th>8</th>\n",
       "      <td>1</td>\n",
       "      <td>Lewis</td>\n",
       "      <td>Hamilton</td>\n",
       "      <td>British</td>\n",
       "      <td>36</td>\n",
       "      <td>849.0</td>\n",
       "      <td>109.0</td>\n",
       "      <td>4.0</td>\n",
       "    </tr>\n",
       "    <tr>\n",
       "      <th>9</th>\n",
       "      <td>1</td>\n",
       "      <td>Lewis</td>\n",
       "      <td>Hamilton</td>\n",
       "      <td>British</td>\n",
       "      <td>36</td>\n",
       "      <td>850.0</td>\n",
       "      <td>134.0</td>\n",
       "      <td>3.0</td>\n",
       "    </tr>\n",
       "  </tbody>\n",
       "</table>\n",
       "</div>"
      ],
      "text/plain": [
       "   driverId forename   surname nationality  Age  raceId  points  position\n",
       "0         1    Lewis  Hamilton     British   36   841.0    18.0       2.0\n",
       "1         1    Lewis  Hamilton     British   36   842.0    22.0       3.0\n",
       "2         1    Lewis  Hamilton     British   36   843.0    47.0       2.0\n",
       "3         1    Lewis  Hamilton     British   36   844.0    59.0       2.0\n",
       "4         1    Lewis  Hamilton     British   36   845.0    77.0       2.0\n",
       "5         1    Lewis  Hamilton     British   36   846.0    85.0       2.0\n",
       "6         1    Lewis  Hamilton     British   36   847.0    85.0       4.0\n",
       "7         1    Lewis  Hamilton     British   36   848.0    97.0       4.0\n",
       "8         1    Lewis  Hamilton     British   36   849.0   109.0       4.0\n",
       "9         1    Lewis  Hamilton     British   36   850.0   134.0       3.0"
      ]
     },
     "execution_count": 9,
     "metadata": {},
     "output_type": "execute_result"
    }
   ],
   "source": [
    "driver_data=drivers_raw.merge(driver_st_raw,how='outer')\n",
    "driver_data.head(10)\n",
    "#driver_data.shape"
   ]
  },
  {
   "cell_type": "code",
   "execution_count": 10,
   "metadata": {
    "execution": {
     "iopub.execute_input": "2021-03-31T15:43:44.415640Z",
     "iopub.status.busy": "2021-03-31T15:43:44.414516Z",
     "iopub.status.idle": "2021-03-31T15:43:44.422291Z",
     "shell.execute_reply": "2021-03-31T15:43:44.422745Z"
    },
    "papermill": {
     "duration": 0.041712,
     "end_time": "2021-03-31T15:43:44.422932",
     "exception": false,
     "start_time": "2021-03-31T15:43:44.381220",
     "status": "completed"
    },
    "tags": []
   },
   "outputs": [],
   "source": [
    "constructors_st_raw=constructors_st_raw[constructors_st_raw[\"raceId\"]>=841]\n",
    "constructors_res_raw=constructors_res_raw[constructors_res_raw[\"raceId\"]>=841]\n",
    "constructors_st_raw=constructors_st_raw.sort_values([\"raceId\"],ascending=True)\n",
    "constructors_res_raw=constructors_res_raw.sort_values([\"raceId\"],ascending=True)\n",
    "# print(constructors_st_raw.head(10))\n",
    "# print(constructors_res_raw.head(10))\n",
    "constructors_raw=constructors_raw.rename({'name':'Cons_name','nationality':'Cons_nationality'},axis=1)\n",
    "constructors_raw=constructors_raw.drop(columns=['constructorRef','url'],axis=1)"
   ]
  },
  {
   "cell_type": "code",
   "execution_count": 11,
   "metadata": {
    "execution": {
     "iopub.execute_input": "2021-03-31T15:43:44.485269Z",
     "iopub.status.busy": "2021-03-31T15:43:44.484262Z",
     "iopub.status.idle": "2021-03-31T15:43:44.499211Z",
     "shell.execute_reply": "2021-03-31T15:43:44.498437Z"
    },
    "papermill": {
     "duration": 0.050098,
     "end_time": "2021-03-31T15:43:44.499399",
     "exception": false,
     "start_time": "2021-03-31T15:43:44.449301",
     "status": "completed"
    },
    "tags": []
   },
   "outputs": [
    {
     "name": "stdout",
     "output_type": "stream",
     "text": [
      "   constructorId Cons_name Cons_nationality  raceId  points  position  wins\n",
      "0              1   McLaren          British   841.0    26.0       2.0   0.0\n",
      "1              1   McLaren          British   842.0    48.0       2.0   0.0\n",
      "2              1   McLaren          British   843.0    85.0       2.0   1.0\n",
      "3              1   McLaren          British   844.0   105.0       2.0   1.0\n",
      "4              1   McLaren          British   845.0   138.0       2.0   1.0\n",
      "5              1   McLaren          British   846.0   161.0       2.0   1.0\n",
      "6              1   McLaren          British   847.0   186.0       2.0   2.0\n",
      "7              1   McLaren          British   848.0   206.0       2.0   2.0\n",
      "8              1   McLaren          British   849.0   218.0       2.0   2.0\n",
      "9              1   McLaren          British   850.0   243.0       2.0   3.0\n"
     ]
    }
   ],
   "source": [
    "constructors_data=constructors_raw.merge(constructors_st_raw,how='outer')\n",
    "c_d=[\"constructorStandingsId\",\"positionText\"]\n",
    "constructors_data=constructors_data.drop(columns=c_d,axis=1)\n",
    "print(constructors_data.head(10))"
   ]
  },
  {
   "cell_type": "code",
   "execution_count": 12,
   "metadata": {
    "execution": {
     "iopub.execute_input": "2021-03-31T15:43:44.562709Z",
     "iopub.status.busy": "2021-03-31T15:43:44.562079Z",
     "iopub.status.idle": "2021-03-31T15:43:44.568513Z",
     "shell.execute_reply": "2021-03-31T15:43:44.567953Z"
    },
    "papermill": {
     "duration": 0.041243,
     "end_time": "2021-03-31T15:43:44.568647",
     "exception": false,
     "start_time": "2021-03-31T15:43:44.527404",
     "status": "completed"
    },
    "tags": []
   },
   "outputs": [],
   "source": [
    "pit_stops_raw=pit_stops_raw.drop([\"time\",\"duration\"],axis=1)\n",
    "pit_stops_raw=pit_stops_raw.sort_values([\"raceId\",\"driverId\"],ascending=True)\n",
    "quali_raw=quali_raw.drop([\"qualifyId\",\"number\"],axis=1)"
   ]
  },
  {
   "cell_type": "markdown",
   "metadata": {
    "papermill": {
     "duration": 0.026524,
     "end_time": "2021-03-31T15:43:44.622060",
     "exception": false,
     "start_time": "2021-03-31T15:43:44.595536",
     "status": "completed"
    },
    "tags": []
   },
   "source": [
    "# **Start of Lap_Times dataset Cleaning**"
   ]
  },
  {
   "cell_type": "code",
   "execution_count": 13,
   "metadata": {
    "execution": {
     "iopub.execute_input": "2021-03-31T15:43:44.690125Z",
     "iopub.status.busy": "2021-03-31T15:43:44.689357Z",
     "iopub.status.idle": "2021-03-31T15:43:44.756256Z",
     "shell.execute_reply": "2021-03-31T15:43:44.755666Z"
    },
    "papermill": {
     "duration": 0.107718,
     "end_time": "2021-03-31T15:43:44.756402",
     "exception": false,
     "start_time": "2021-03-31T15:43:44.648684",
     "status": "completed"
    },
    "tags": []
   },
   "outputs": [],
   "source": [
    "#lap_times_raw['count']=lap_times_raw.groupby([\"raceId\",\"driverId\"])[\"milliseconds\"].transform('count')\n",
    "#print(lap_times_raw.head(80))\n",
    "new_lap_times=pd.DataFrame(lap_times_raw.groupby([\"raceId\",\"driverId\"]).mean([\"milliseconds\"]).reset_index())"
   ]
  },
  {
   "cell_type": "code",
   "execution_count": 14,
   "metadata": {
    "execution": {
     "iopub.execute_input": "2021-03-31T15:43:44.817791Z",
     "iopub.status.busy": "2021-03-31T15:43:44.817166Z",
     "iopub.status.idle": "2021-03-31T15:43:44.820872Z",
     "shell.execute_reply": "2021-03-31T15:43:44.820277Z"
    },
    "papermill": {
     "duration": 0.037277,
     "end_time": "2021-03-31T15:43:44.821016",
     "exception": false,
     "start_time": "2021-03-31T15:43:44.783739",
     "status": "completed"
    },
    "tags": []
   },
   "outputs": [],
   "source": [
    "rename1={'milliseconds':'Avg_lap_time','lap':'total_laps'}\n",
    "new_lap_times=new_lap_times.rename(columns=rename1)\n",
    "new_lap_times=new_lap_times.drop(['position'],axis=1)"
   ]
  },
  {
   "cell_type": "code",
   "execution_count": 15,
   "metadata": {
    "execution": {
     "iopub.execute_input": "2021-03-31T15:43:44.882324Z",
     "iopub.status.busy": "2021-03-31T15:43:44.881651Z",
     "iopub.status.idle": "2021-03-31T15:43:44.884294Z",
     "shell.execute_reply": "2021-03-31T15:43:44.884733Z"
    },
    "papermill": {
     "duration": 0.036413,
     "end_time": "2021-03-31T15:43:44.884936",
     "exception": false,
     "start_time": "2021-03-31T15:43:44.848523",
     "status": "completed"
    },
    "tags": []
   },
   "outputs": [],
   "source": [
    "race_index=new_lap_times.loc[new_lap_times[\"raceId\"]==841].index.min()\n",
    "new_lap_times=new_lap_times[race_index:]"
   ]
  },
  {
   "cell_type": "code",
   "execution_count": 16,
   "metadata": {
    "execution": {
     "iopub.execute_input": "2021-03-31T15:43:44.948528Z",
     "iopub.status.busy": "2021-03-31T15:43:44.947893Z",
     "iopub.status.idle": "2021-03-31T15:43:44.952584Z",
     "shell.execute_reply": "2021-03-31T15:43:44.953186Z"
    },
    "papermill": {
     "duration": 0.040976,
     "end_time": "2021-03-31T15:43:44.953359",
     "exception": false,
     "start_time": "2021-03-31T15:43:44.912383",
     "status": "completed"
    },
    "tags": []
   },
   "outputs": [
    {
     "name": "stdout",
     "output_type": "stream",
     "text": [
      "      raceId  driverId  total_laps  Avg_lap_time\n",
      "5233     841         1        29.5  92975.103448\n",
      "5234     841         2        29.0  95507.035088\n",
      "5235     841         3        11.5  96448.909091\n",
      "5236     841         4        29.5  93138.465517\n",
      "5237     841         5        10.0  98761.000000\n"
     ]
    },
    {
     "data": {
      "text/plain": [
       "(4057, 4)"
      ]
     },
     "execution_count": 16,
     "metadata": {},
     "output_type": "execute_result"
    }
   ],
   "source": [
    "print(new_lap_times.head())\n",
    "new_lap_times.shape"
   ]
  },
  {
   "cell_type": "markdown",
   "metadata": {
    "papermill": {
     "duration": 0.027994,
     "end_time": "2021-03-31T15:43:45.009513",
     "exception": false,
     "start_time": "2021-03-31T15:43:44.981519",
     "status": "completed"
    },
    "tags": []
   },
   "source": [
    "# **End of Lap_Times dataset cleaning**"
   ]
  },
  {
   "cell_type": "markdown",
   "metadata": {
    "papermill": {
     "duration": 0.027928,
     "end_time": "2021-03-31T15:43:45.065737",
     "exception": false,
     "start_time": "2021-03-31T15:43:45.037809",
     "status": "completed"
    },
    "tags": []
   },
   "source": [
    "# **Start of Quali_data cleaning**"
   ]
  },
  {
   "cell_type": "code",
   "execution_count": 17,
   "metadata": {
    "execution": {
     "iopub.execute_input": "2021-03-31T15:43:45.130533Z",
     "iopub.status.busy": "2021-03-31T15:43:45.127456Z",
     "iopub.status.idle": "2021-03-31T15:43:45.134840Z",
     "shell.execute_reply": "2021-03-31T15:43:45.134233Z"
    },
    "papermill": {
     "duration": 0.041418,
     "end_time": "2021-03-31T15:43:45.134976",
     "exception": false,
     "start_time": "2021-03-31T15:43:45.093558",
     "status": "completed"
    },
    "tags": []
   },
   "outputs": [
    {
     "data": {
      "text/plain": [
       "4535"
      ]
     },
     "execution_count": 17,
     "metadata": {},
     "output_type": "execute_result"
    }
   ],
   "source": [
    "pit_stops_raw=pit_stops_raw.rename(columns={\"lap\":\"laps_pit\",\"milliseconds\":\"avg_pit_ms\"})\n",
    "quali_raw=quali_raw.rename(columns={\"position\":\"q_pos\"})\n",
    "q_race_index=quali_raw.loc[quali_raw[\"raceId\"]==841].index.min()\n",
    "q_race_index"
   ]
  },
  {
   "cell_type": "code",
   "execution_count": 18,
   "metadata": {
    "execution": {
     "iopub.execute_input": "2021-03-31T15:43:45.197615Z",
     "iopub.status.busy": "2021-03-31T15:43:45.197014Z",
     "iopub.status.idle": "2021-03-31T15:43:45.200745Z",
     "shell.execute_reply": "2021-03-31T15:43:45.200161Z"
    },
    "papermill": {
     "duration": 0.036839,
     "end_time": "2021-03-31T15:43:45.200896",
     "exception": false,
     "start_time": "2021-03-31T15:43:45.164057",
     "status": "completed"
    },
    "tags": []
   },
   "outputs": [],
   "source": [
    "quali_raw=quali_raw[q_race_index:]"
   ]
  },
  {
   "cell_type": "code",
   "execution_count": 19,
   "metadata": {
    "execution": {
     "iopub.execute_input": "2021-03-31T15:43:45.264865Z",
     "iopub.status.busy": "2021-03-31T15:43:45.264236Z",
     "iopub.status.idle": "2021-03-31T15:43:45.270251Z",
     "shell.execute_reply": "2021-03-31T15:43:45.269659Z"
    },
    "papermill": {
     "duration": 0.040718,
     "end_time": "2021-03-31T15:43:45.270380",
     "exception": false,
     "start_time": "2021-03-31T15:43:45.229662",
     "status": "completed"
    },
    "tags": []
   },
   "outputs": [],
   "source": [
    "quali_raw=quali_raw.sort_values([\"raceId\",\"driverId\"],ascending=True)\n",
    "quali_raw=quali_raw.drop(7276,axis=0)"
   ]
  },
  {
   "cell_type": "code",
   "execution_count": 20,
   "metadata": {
    "execution": {
     "iopub.execute_input": "2021-03-31T15:43:45.352475Z",
     "iopub.status.busy": "2021-03-31T15:43:45.347289Z",
     "iopub.status.idle": "2021-03-31T15:43:45.388890Z",
     "shell.execute_reply": "2021-03-31T15:43:45.388289Z"
    },
    "papermill": {
     "duration": 0.089785,
     "end_time": "2021-03-31T15:43:45.389027",
     "exception": false,
     "start_time": "2021-03-31T15:43:45.299242",
     "status": "completed"
    },
    "tags": []
   },
   "outputs": [
    {
     "name": "stderr",
     "output_type": "stream",
     "text": [
      "/opt/conda/lib/python3.7/site-packages/ipykernel_launcher.py:6: FutureWarning: The default value of regex will change from True to False in a future version.\n",
      "  \n"
     ]
    },
    {
     "data": {
      "text/html": [
       "<div>\n",
       "<style scoped>\n",
       "    .dataframe tbody tr th:only-of-type {\n",
       "        vertical-align: middle;\n",
       "    }\n",
       "\n",
       "    .dataframe tbody tr th {\n",
       "        vertical-align: top;\n",
       "    }\n",
       "\n",
       "    .dataframe thead th {\n",
       "        text-align: right;\n",
       "    }\n",
       "</style>\n",
       "<table border=\"1\" class=\"dataframe\">\n",
       "  <thead>\n",
       "    <tr style=\"text-align: right;\">\n",
       "      <th></th>\n",
       "      <th>raceId</th>\n",
       "      <th>driverId</th>\n",
       "      <th>constructorId</th>\n",
       "      <th>q_pos</th>\n",
       "      <th>q1</th>\n",
       "      <th>q2</th>\n",
       "      <th>q3</th>\n",
       "    </tr>\n",
       "  </thead>\n",
       "  <tbody>\n",
       "    <tr>\n",
       "      <th>4536</th>\n",
       "      <td>841</td>\n",
       "      <td>1</td>\n",
       "      <td>1</td>\n",
       "      <td>2</td>\n",
       "      <td>01:25.4</td>\n",
       "      <td>01:24.6</td>\n",
       "      <td>01:24.3</td>\n",
       "    </tr>\n",
       "    <tr>\n",
       "      <th>4552</th>\n",
       "      <td>841</td>\n",
       "      <td>2</td>\n",
       "      <td>4</td>\n",
       "      <td>18</td>\n",
       "      <td>01:27.2</td>\n",
       "      <td>NaN</td>\n",
       "      <td>NaN</td>\n",
       "    </tr>\n",
       "    <tr>\n",
       "      <th>4541</th>\n",
       "      <td>841</td>\n",
       "      <td>3</td>\n",
       "      <td>131</td>\n",
       "      <td>7</td>\n",
       "      <td>01:25.9</td>\n",
       "      <td>01:25.6</td>\n",
       "      <td>01:25.4</td>\n",
       "    </tr>\n",
       "    <tr>\n",
       "      <th>4539</th>\n",
       "      <td>841</td>\n",
       "      <td>4</td>\n",
       "      <td>6</td>\n",
       "      <td>5</td>\n",
       "      <td>01:25.7</td>\n",
       "      <td>01:25.2</td>\n",
       "      <td>01:25.0</td>\n",
       "    </tr>\n",
       "    <tr>\n",
       "      <th>4553</th>\n",
       "      <td>841</td>\n",
       "      <td>5</td>\n",
       "      <td>205</td>\n",
       "      <td>19</td>\n",
       "      <td>01:29.3</td>\n",
       "      <td>NaN</td>\n",
       "      <td>NaN</td>\n",
       "    </tr>\n",
       "    <tr>\n",
       "      <th>4555</th>\n",
       "      <td>841</td>\n",
       "      <td>10</td>\n",
       "      <td>166</td>\n",
       "      <td>21</td>\n",
       "      <td>01:29.9</td>\n",
       "      <td>NaN</td>\n",
       "      <td>NaN</td>\n",
       "    </tr>\n",
       "    <tr>\n",
       "      <th>4542</th>\n",
       "      <td>841</td>\n",
       "      <td>13</td>\n",
       "      <td>6</td>\n",
       "      <td>8</td>\n",
       "      <td>01:26.0</td>\n",
       "      <td>01:25.6</td>\n",
       "      <td>01:25.6</td>\n",
       "    </tr>\n",
       "    <tr>\n",
       "      <th>4554</th>\n",
       "      <td>841</td>\n",
       "      <td>15</td>\n",
       "      <td>205</td>\n",
       "      <td>20</td>\n",
       "      <td>01:29.3</td>\n",
       "      <td>NaN</td>\n",
       "      <td>NaN</td>\n",
       "    </tr>\n",
       "    <tr>\n",
       "      <th>4550</th>\n",
       "      <td>841</td>\n",
       "      <td>16</td>\n",
       "      <td>10</td>\n",
       "      <td>16</td>\n",
       "      <td>01:26.2</td>\n",
       "      <td>01:31.4</td>\n",
       "      <td>NaN</td>\n",
       "    </tr>\n",
       "    <tr>\n",
       "      <th>4537</th>\n",
       "      <td>841</td>\n",
       "      <td>17</td>\n",
       "      <td>9</td>\n",
       "      <td>3</td>\n",
       "      <td>01:25.9</td>\n",
       "      <td>01:24.7</td>\n",
       "      <td>01:24.4</td>\n",
       "    </tr>\n",
       "    <tr>\n",
       "      <th>4538</th>\n",
       "      <td>841</td>\n",
       "      <td>18</td>\n",
       "      <td>1</td>\n",
       "      <td>4</td>\n",
       "      <td>01:25.9</td>\n",
       "      <td>01:25.0</td>\n",
       "      <td>01:24.8</td>\n",
       "    </tr>\n",
       "    <tr>\n",
       "      <th>4535</th>\n",
       "      <td>841</td>\n",
       "      <td>20</td>\n",
       "      <td>9</td>\n",
       "      <td>1</td>\n",
       "      <td>01:25.3</td>\n",
       "      <td>01:24.1</td>\n",
       "      <td>01:23.5</td>\n",
       "    </tr>\n",
       "    <tr>\n",
       "      <th>4551</th>\n",
       "      <td>841</td>\n",
       "      <td>22</td>\n",
       "      <td>3</td>\n",
       "      <td>17</td>\n",
       "      <td>01:26.3</td>\n",
       "      <td>NaN</td>\n",
       "      <td>NaN</td>\n",
       "    </tr>\n",
       "    <tr>\n",
       "      <th>4558</th>\n",
       "      <td>841</td>\n",
       "      <td>24</td>\n",
       "      <td>164</td>\n",
       "      <td>23</td>\n",
       "      <td>01:33.0</td>\n",
       "      <td>NaN</td>\n",
       "      <td>NaN</td>\n",
       "    </tr>\n",
       "    <tr>\n",
       "      <th>4545</th>\n",
       "      <td>841</td>\n",
       "      <td>30</td>\n",
       "      <td>131</td>\n",
       "      <td>11</td>\n",
       "      <td>01:26.0</td>\n",
       "      <td>01:26.0</td>\n",
       "      <td>NaN</td>\n",
       "    </tr>\n",
       "  </tbody>\n",
       "</table>\n",
       "</div>"
      ],
      "text/plain": [
       "      raceId  driverId  constructorId  q_pos       q1       q2       q3\n",
       "4536     841         1              1      2  01:25.4  01:24.6  01:24.3\n",
       "4552     841         2              4     18  01:27.2      NaN      NaN\n",
       "4541     841         3            131      7  01:25.9  01:25.6  01:25.4\n",
       "4539     841         4              6      5  01:25.7  01:25.2  01:25.0\n",
       "4553     841         5            205     19  01:29.3      NaN      NaN\n",
       "4555     841        10            166     21  01:29.9      NaN      NaN\n",
       "4542     841        13              6      8  01:26.0  01:25.6  01:25.6\n",
       "4554     841        15            205     20  01:29.3      NaN      NaN\n",
       "4550     841        16             10     16  01:26.2  01:31.4      NaN\n",
       "4537     841        17              9      3  01:25.9  01:24.7  01:24.4\n",
       "4538     841        18              1      4  01:25.9  01:25.0  01:24.8\n",
       "4535     841        20              9      1  01:25.3  01:24.1  01:23.5\n",
       "4551     841        22              3     17  01:26.3      NaN      NaN\n",
       "4558     841        24            164     23  01:33.0      NaN      NaN\n",
       "4545     841        30            131     11  01:26.0  01:26.0      NaN"
      ]
     },
     "execution_count": 20,
     "metadata": {},
     "output_type": "execute_result"
    }
   ],
   "source": [
    "# quali_raw['best_quali_time']=0\n",
    "time_convert=['q1','q2','q3']\n",
    "for t in time_convert:\n",
    "    #quali_raw[t]=re.sub(r\"\\\\N\",'',quali_raw[t])\n",
    "    #print(quali_raw['q1'].head())\n",
    "    quali_raw[t]=quali_raw[t].str.replace(r'\\\\N','')\n",
    "    #print(quali_raw.head(15))\n",
    "quali_raw=quali_raw.replace(r'^\\s*$',np.nan,regex=True)\n",
    "#quali_raw.isnull().sum()\n",
    "quali_raw.head(15)"
   ]
  },
  {
   "cell_type": "code",
   "execution_count": 21,
   "metadata": {
    "execution": {
     "iopub.execute_input": "2021-03-31T15:43:45.454915Z",
     "iopub.status.busy": "2021-03-31T15:43:45.454189Z",
     "iopub.status.idle": "2021-03-31T15:43:45.457232Z",
     "shell.execute_reply": "2021-03-31T15:43:45.457849Z"
    },
    "papermill": {
     "duration": 0.039366,
     "end_time": "2021-03-31T15:43:45.458016",
     "exception": false,
     "start_time": "2021-03-31T15:43:45.418650",
     "status": "completed"
    },
    "tags": []
   },
   "outputs": [
    {
     "data": {
      "text/plain": [
       "'900000'"
      ]
     },
     "execution_count": 21,
     "metadata": {},
     "output_type": "execute_result"
    }
   ],
   "source": [
    "from datetime import datetime\n",
    "# quali_raw['q1'].str.replace(' :',' ')\n",
    "# quali_raw['q1'].str.replace('.',' ')\n",
    "datetime.strptime(quali_raw.iloc[2]['q1'],'%M:%S.%f').strftime(\"%f\")\n",
    "#qulai_raw['ms']=datetime.time(quali_raw['q1'])\n",
    "#quali_raw.iloc[2]['q1'].timestamp()*1000\n",
    "# quali_raw['q1']=quali_raw['q1'].astype(np.int64)/int(1e6)\n",
    "#datetime.time(quali_raw['q1'])\n",
    "#quali_raw.groupby([\"raceId\",\"driverId\"]).head()"
   ]
  },
  {
   "cell_type": "markdown",
   "metadata": {
    "papermill": {
     "duration": 0.030109,
     "end_time": "2021-03-31T15:43:45.518291",
     "exception": false,
     "start_time": "2021-03-31T15:43:45.488182",
     "status": "completed"
    },
    "tags": []
   },
   "source": [
    "Modify Quali excel to have best quali time over three sessions\n",
    "--convert to milliseconds\n",
    "--find the lowest time"
   ]
  },
  {
   "cell_type": "markdown",
   "metadata": {
    "papermill": {
     "duration": 0.029751,
     "end_time": "2021-03-31T15:43:45.578629",
     "exception": false,
     "start_time": "2021-03-31T15:43:45.548878",
     "status": "completed"
    },
    "tags": []
   },
   "source": [
    "# **End of Quali_data cleaning**"
   ]
  },
  {
   "cell_type": "markdown",
   "metadata": {
    "papermill": {
     "duration": 0.030518,
     "end_time": "2021-03-31T15:43:45.640217",
     "exception": false,
     "start_time": "2021-03-31T15:43:45.609699",
     "status": "completed"
    },
    "tags": []
   },
   "source": [
    "# **Start of Pit_Stops_Cleaning**"
   ]
  },
  {
   "cell_type": "code",
   "execution_count": 22,
   "metadata": {
    "execution": {
     "iopub.execute_input": "2021-03-31T15:43:45.706450Z",
     "iopub.status.busy": "2021-03-31T15:43:45.705814Z",
     "iopub.status.idle": "2021-03-31T15:43:45.716974Z",
     "shell.execute_reply": "2021-03-31T15:43:45.716345Z"
    },
    "papermill": {
     "duration": 0.046654,
     "end_time": "2021-03-31T15:43:45.717113",
     "exception": false,
     "start_time": "2021-03-31T15:43:45.670459",
     "status": "completed"
    },
    "tags": []
   },
   "outputs": [
    {
     "data": {
      "text/html": [
       "<div>\n",
       "<style scoped>\n",
       "    .dataframe tbody tr th:only-of-type {\n",
       "        vertical-align: middle;\n",
       "    }\n",
       "\n",
       "    .dataframe tbody tr th {\n",
       "        vertical-align: top;\n",
       "    }\n",
       "\n",
       "    .dataframe thead th {\n",
       "        text-align: right;\n",
       "    }\n",
       "</style>\n",
       "<table border=\"1\" class=\"dataframe\">\n",
       "  <thead>\n",
       "    <tr style=\"text-align: right;\">\n",
       "      <th></th>\n",
       "      <th>raceId</th>\n",
       "      <th>driverId</th>\n",
       "      <th>stop</th>\n",
       "      <th>laps_pit</th>\n",
       "      <th>avg_pit_ms</th>\n",
       "    </tr>\n",
       "  </thead>\n",
       "  <tbody>\n",
       "    <tr>\n",
       "      <th>11</th>\n",
       "      <td>841</td>\n",
       "      <td>1</td>\n",
       "      <td>1</td>\n",
       "      <td>16</td>\n",
       "      <td>23227</td>\n",
       "    </tr>\n",
       "    <tr>\n",
       "      <th>33</th>\n",
       "      <td>841</td>\n",
       "      <td>1</td>\n",
       "      <td>2</td>\n",
       "      <td>36</td>\n",
       "      <td>23199</td>\n",
       "    </tr>\n",
       "    <tr>\n",
       "      <th>10</th>\n",
       "      <td>841</td>\n",
       "      <td>2</td>\n",
       "      <td>1</td>\n",
       "      <td>15</td>\n",
       "      <td>22994</td>\n",
       "    </tr>\n",
       "    <tr>\n",
       "      <th>29</th>\n",
       "      <td>841</td>\n",
       "      <td>2</td>\n",
       "      <td>2</td>\n",
       "      <td>30</td>\n",
       "      <td>25098</td>\n",
       "    </tr>\n",
       "    <tr>\n",
       "      <th>13</th>\n",
       "      <td>841</td>\n",
       "      <td>3</td>\n",
       "      <td>1</td>\n",
       "      <td>16</td>\n",
       "      <td>23716</td>\n",
       "    </tr>\n",
       "    <tr>\n",
       "      <th>3</th>\n",
       "      <td>841</td>\n",
       "      <td>4</td>\n",
       "      <td>1</td>\n",
       "      <td>12</td>\n",
       "      <td>23251</td>\n",
       "    </tr>\n",
       "    <tr>\n",
       "      <th>26</th>\n",
       "      <td>841</td>\n",
       "      <td>4</td>\n",
       "      <td>2</td>\n",
       "      <td>27</td>\n",
       "      <td>24733</td>\n",
       "    </tr>\n",
       "    <tr>\n",
       "      <th>43</th>\n",
       "      <td>841</td>\n",
       "      <td>4</td>\n",
       "      <td>3</td>\n",
       "      <td>42</td>\n",
       "      <td>24181</td>\n",
       "    </tr>\n",
       "    <tr>\n",
       "      <th>19</th>\n",
       "      <td>841</td>\n",
       "      <td>5</td>\n",
       "      <td>1</td>\n",
       "      <td>17</td>\n",
       "      <td>24865</td>\n",
       "    </tr>\n",
       "    <tr>\n",
       "      <th>21</th>\n",
       "      <td>841</td>\n",
       "      <td>10</td>\n",
       "      <td>1</td>\n",
       "      <td>18</td>\n",
       "      <td>23792</td>\n",
       "    </tr>\n",
       "  </tbody>\n",
       "</table>\n",
       "</div>"
      ],
      "text/plain": [
       "    raceId  driverId  stop  laps_pit  avg_pit_ms\n",
       "11     841         1     1        16       23227\n",
       "33     841         1     2        36       23199\n",
       "10     841         2     1        15       22994\n",
       "29     841         2     2        30       25098\n",
       "13     841         3     1        16       23716\n",
       "3      841         4     1        12       23251\n",
       "26     841         4     2        27       24733\n",
       "43     841         4     3        42       24181\n",
       "19     841         5     1        17       24865\n",
       "21     841        10     1        18       23792"
      ]
     },
     "execution_count": 22,
     "metadata": {},
     "output_type": "execute_result"
    }
   ],
   "source": [
    "pit_stops_raw.head(10)"
   ]
  },
  {
   "cell_type": "code",
   "execution_count": 23,
   "metadata": {
    "execution": {
     "iopub.execute_input": "2021-03-31T15:43:45.783182Z",
     "iopub.status.busy": "2021-03-31T15:43:45.782568Z",
     "iopub.status.idle": "2021-03-31T15:43:45.921679Z",
     "shell.execute_reply": "2021-03-31T15:43:45.922253Z"
    },
    "papermill": {
     "duration": 0.173703,
     "end_time": "2021-03-31T15:43:45.922448",
     "exception": false,
     "start_time": "2021-03-31T15:43:45.748745",
     "status": "completed"
    },
    "tags": []
   },
   "outputs": [],
   "source": [
    "pit_stops_raw=pit_stops_raw.groupby([\"raceId\",\"driverId\"]).agg({'stop':'count','laps_pit': list , 'avg_pit_ms':'mean'}).reset_index()\n",
    "pit_filtered=pit_stops_raw.drop(columns=\"laps_pit\",axis=1)"
   ]
  },
  {
   "cell_type": "code",
   "execution_count": 24,
   "metadata": {
    "execution": {
     "iopub.execute_input": "2021-03-31T15:43:45.989811Z",
     "iopub.status.busy": "2021-03-31T15:43:45.989167Z",
     "iopub.status.idle": "2021-03-31T15:43:46.000668Z",
     "shell.execute_reply": "2021-03-31T15:43:46.000131Z"
    },
    "papermill": {
     "duration": 0.046155,
     "end_time": "2021-03-31T15:43:46.000837",
     "exception": false,
     "start_time": "2021-03-31T15:43:45.954682",
     "status": "completed"
    },
    "tags": []
   },
   "outputs": [
    {
     "data": {
      "text/html": [
       "<div>\n",
       "<style scoped>\n",
       "    .dataframe tbody tr th:only-of-type {\n",
       "        vertical-align: middle;\n",
       "    }\n",
       "\n",
       "    .dataframe tbody tr th {\n",
       "        vertical-align: top;\n",
       "    }\n",
       "\n",
       "    .dataframe thead th {\n",
       "        text-align: right;\n",
       "    }\n",
       "</style>\n",
       "<table border=\"1\" class=\"dataframe\">\n",
       "  <thead>\n",
       "    <tr style=\"text-align: right;\">\n",
       "      <th></th>\n",
       "      <th>raceId</th>\n",
       "      <th>driverId</th>\n",
       "      <th>stop</th>\n",
       "      <th>avg_pit_ms</th>\n",
       "    </tr>\n",
       "  </thead>\n",
       "  <tbody>\n",
       "    <tr>\n",
       "      <th>0</th>\n",
       "      <td>841</td>\n",
       "      <td>1</td>\n",
       "      <td>2</td>\n",
       "      <td>23213.000000</td>\n",
       "    </tr>\n",
       "    <tr>\n",
       "      <th>1</th>\n",
       "      <td>841</td>\n",
       "      <td>2</td>\n",
       "      <td>2</td>\n",
       "      <td>24046.000000</td>\n",
       "    </tr>\n",
       "    <tr>\n",
       "      <th>2</th>\n",
       "      <td>841</td>\n",
       "      <td>3</td>\n",
       "      <td>1</td>\n",
       "      <td>23716.000000</td>\n",
       "    </tr>\n",
       "    <tr>\n",
       "      <th>3</th>\n",
       "      <td>841</td>\n",
       "      <td>4</td>\n",
       "      <td>3</td>\n",
       "      <td>24055.000000</td>\n",
       "    </tr>\n",
       "    <tr>\n",
       "      <th>4</th>\n",
       "      <td>841</td>\n",
       "      <td>5</td>\n",
       "      <td>1</td>\n",
       "      <td>24865.000000</td>\n",
       "    </tr>\n",
       "    <tr>\n",
       "      <th>5</th>\n",
       "      <td>841</td>\n",
       "      <td>10</td>\n",
       "      <td>1</td>\n",
       "      <td>23792.000000</td>\n",
       "    </tr>\n",
       "    <tr>\n",
       "      <th>6</th>\n",
       "      <td>841</td>\n",
       "      <td>13</td>\n",
       "      <td>3</td>\n",
       "      <td>24145.666667</td>\n",
       "    </tr>\n",
       "    <tr>\n",
       "      <th>7</th>\n",
       "      <td>841</td>\n",
       "      <td>15</td>\n",
       "      <td>2</td>\n",
       "      <td>24873.500000</td>\n",
       "    </tr>\n",
       "    <tr>\n",
       "      <th>8</th>\n",
       "      <td>841</td>\n",
       "      <td>16</td>\n",
       "      <td>2</td>\n",
       "      <td>24924.500000</td>\n",
       "    </tr>\n",
       "    <tr>\n",
       "      <th>9</th>\n",
       "      <td>841</td>\n",
       "      <td>17</td>\n",
       "      <td>3</td>\n",
       "      <td>24058.666667</td>\n",
       "    </tr>\n",
       "  </tbody>\n",
       "</table>\n",
       "</div>"
      ],
      "text/plain": [
       "   raceId  driverId  stop    avg_pit_ms\n",
       "0     841         1     2  23213.000000\n",
       "1     841         2     2  24046.000000\n",
       "2     841         3     1  23716.000000\n",
       "3     841         4     3  24055.000000\n",
       "4     841         5     1  24865.000000\n",
       "5     841        10     1  23792.000000\n",
       "6     841        13     3  24145.666667\n",
       "7     841        15     2  24873.500000\n",
       "8     841        16     2  24924.500000\n",
       "9     841        17     3  24058.666667"
      ]
     },
     "execution_count": 24,
     "metadata": {},
     "output_type": "execute_result"
    }
   ],
   "source": [
    "pit_filtered.head(10)"
   ]
  },
  {
   "cell_type": "markdown",
   "metadata": {
    "papermill": {
     "duration": 0.031973,
     "end_time": "2021-03-31T15:43:46.065108",
     "exception": false,
     "start_time": "2021-03-31T15:43:46.033135",
     "status": "completed"
    },
    "tags": []
   },
   "source": [
    "# **End of Pit_stops cleaning**"
   ]
  },
  {
   "cell_type": "code",
   "execution_count": 25,
   "metadata": {
    "execution": {
     "iopub.execute_input": "2021-03-31T15:43:46.132569Z",
     "iopub.status.busy": "2021-03-31T15:43:46.131966Z",
     "iopub.status.idle": "2021-03-31T15:43:46.144885Z",
     "shell.execute_reply": "2021-03-31T15:43:46.145392Z"
    },
    "papermill": {
     "duration": 0.047955,
     "end_time": "2021-03-31T15:43:46.145552",
     "exception": false,
     "start_time": "2021-03-31T15:43:46.097597",
     "status": "completed"
    },
    "tags": []
   },
   "outputs": [
    {
     "name": "stdout",
     "output_type": "stream",
     "text": [
      "      raceId  driverId  constructorId  q_pos       q1       q2       q3\n",
      "4536     841         1              1      2  01:25.4  01:24.6  01:24.3\n",
      "4552     841         2              4     18  01:27.2      NaN      NaN\n",
      "4541     841         3            131      7  01:25.9  01:25.6  01:25.4\n",
      "4539     841         4              6      5  01:25.7  01:25.2  01:25.0\n",
      "4553     841         5            205     19  01:29.3      NaN      NaN\n",
      "   raceId  driverId  stop  avg_pit_ms\n",
      "0     841         1     2     23213.0\n",
      "1     841         2     2     24046.0\n",
      "2     841         3     1     23716.0\n",
      "3     841         4     3     24055.0\n",
      "4     841         5     1     24865.0\n",
      "      raceId  driverId  total_laps  Avg_lap_time\n",
      "5233     841         1        29.5  92975.103448\n",
      "5234     841         2        29.0  95507.035088\n",
      "5235     841         3        11.5  96448.909091\n",
      "5236     841         4        29.5  93138.465517\n",
      "5237     841         5        10.0  98761.000000\n"
     ]
    }
   ],
   "source": [
    "print(quali_raw.head())\n",
    "print(pit_filtered.head())\n",
    "print(new_lap_times.head())"
   ]
  },
  {
   "cell_type": "code",
   "execution_count": 26,
   "metadata": {
    "execution": {
     "iopub.execute_input": "2021-03-31T15:43:46.213663Z",
     "iopub.status.busy": "2021-03-31T15:43:46.213062Z",
     "iopub.status.idle": "2021-03-31T15:43:46.228334Z",
     "shell.execute_reply": "2021-03-31T15:43:46.228865Z"
    },
    "papermill": {
     "duration": 0.051042,
     "end_time": "2021-03-31T15:43:46.229083",
     "exception": false,
     "start_time": "2021-03-31T15:43:46.178041",
     "status": "completed"
    },
    "tags": []
   },
   "outputs": [
    {
     "name": "stdout",
     "output_type": "stream",
     "text": [
      "   raceId  driverId  total_laps  Avg_lap_time  stop  avg_pit_ms\n",
      "0     841         1        29.5  92975.103448   2.0     23213.0\n",
      "1     841         2        29.0  95507.035088   2.0     24046.0\n",
      "2     841         3        11.5  96448.909091   1.0     23716.0\n",
      "3     841         4        29.5  93138.465517   3.0     24055.0\n",
      "4     841         5        10.0  98761.000000   1.0     24865.0\n",
      "(4057, 6)\n"
     ]
    }
   ],
   "source": [
    "race_data=new_lap_times.merge(pit_filtered,how='outer')\n",
    "print(race_data.head())\n",
    "print(race_data.shape)"
   ]
  },
  {
   "cell_type": "code",
   "execution_count": 27,
   "metadata": {
    "execution": {
     "iopub.execute_input": "2021-03-31T15:43:46.300347Z",
     "iopub.status.busy": "2021-03-31T15:43:46.299684Z",
     "iopub.status.idle": "2021-03-31T15:43:46.303188Z",
     "shell.execute_reply": "2021-03-31T15:43:46.302477Z"
    },
    "papermill": {
     "duration": 0.04092,
     "end_time": "2021-03-31T15:43:46.303336",
     "exception": false,
     "start_time": "2021-03-31T15:43:46.262416",
     "status": "completed"
    },
    "tags": []
   },
   "outputs": [],
   "source": [
    "#results.head()"
   ]
  },
  {
   "cell_type": "code",
   "execution_count": 28,
   "metadata": {
    "execution": {
     "iopub.execute_input": "2021-03-31T15:43:46.380689Z",
     "iopub.status.busy": "2021-03-31T15:43:46.379996Z",
     "iopub.status.idle": "2021-03-31T15:43:46.390176Z",
     "shell.execute_reply": "2021-03-31T15:43:46.389631Z"
    },
    "papermill": {
     "duration": 0.05384,
     "end_time": "2021-03-31T15:43:46.390324",
     "exception": false,
     "start_time": "2021-03-31T15:43:46.336484",
     "status": "completed"
    },
    "tags": []
   },
   "outputs": [],
   "source": [
    "weekend_data=race_data.merge(quali_raw,how='inner')\n",
    "#print(weekend_data.head(30))\n",
    "# print(weekend_data.shape)\n",
    "# driver_data.head()\n",
    "weekend_data['stop']=weekend_data['stop'].fillna(int(weekend_data['stop'].mean()))\n",
    "weekend_data['avg_pit_ms']=weekend_data['avg_pit_ms'].fillna(weekend_data['avg_pit_ms'].mean())\n",
    "q=['q1','q2','q3']\n",
    "for a in q:\n",
    "    weekend_data[a]=weekend_data[a].fillna(0)\n",
    "#weekend_data.isnull().sum()"
   ]
  },
  {
   "cell_type": "code",
   "execution_count": 29,
   "metadata": {
    "execution": {
     "iopub.execute_input": "2021-03-31T15:43:46.460713Z",
     "iopub.status.busy": "2021-03-31T15:43:46.459809Z",
     "iopub.status.idle": "2021-03-31T15:43:46.498088Z",
     "shell.execute_reply": "2021-03-31T15:43:46.498556Z"
    },
    "papermill": {
     "duration": 0.074886,
     "end_time": "2021-03-31T15:43:46.498738",
     "exception": false,
     "start_time": "2021-03-31T15:43:46.423852",
     "status": "completed"
    },
    "tags": []
   },
   "outputs": [],
   "source": [
    "overall_data_a=results.merge(weekend_data,how='inner')\n",
    "overall_data_b=overall_data_a.merge(drivers_raw,how='inner')\n",
    "overall_data_c=overall_data_b.merge(constructors_raw,how='inner')\n",
    "#overall_data_c.head()\n",
    "#overall_data_c.columns"
   ]
  },
  {
   "cell_type": "code",
   "execution_count": 30,
   "metadata": {
    "execution": {
     "iopub.execute_input": "2021-03-31T15:43:46.569947Z",
     "iopub.status.busy": "2021-03-31T15:43:46.568970Z",
     "iopub.status.idle": "2021-03-31T15:43:46.575096Z",
     "shell.execute_reply": "2021-03-31T15:43:46.575617Z"
    },
    "papermill": {
     "duration": 0.042986,
     "end_time": "2021-03-31T15:43:46.575804",
     "exception": false,
     "start_time": "2021-03-31T15:43:46.532818",
     "status": "completed"
    },
    "tags": []
   },
   "outputs": [
    {
     "data": {
      "text/plain": [
       "Index(['raceId', 'year', 'round', 'circuitId', 'name', 'date', 'race_time',\n",
       "       'driverId', 'constructorId', 'number', 'grid', 'position',\n",
       "       'positionOrder', 'points', 'laps', 'time', 'milliseconds', 'fastestLap',\n",
       "       'rank', 'fastestLapTime', 'fastestLapSpeed', 'status', 'total_laps',\n",
       "       'Avg_lap_time', 'stop', 'avg_pit_ms', 'q_pos', 'q1', 'q2', 'q3',\n",
       "       'forename', 'surname', 'nationality', 'Age', 'Cons_name',\n",
       "       'Cons_nationality'],\n",
       "      dtype='object')"
      ]
     },
     "execution_count": 30,
     "metadata": {},
     "output_type": "execute_result"
    }
   ],
   "source": [
    "overall_data_c.columns"
   ]
  },
  {
   "cell_type": "code",
   "execution_count": 31,
   "metadata": {
    "execution": {
     "iopub.execute_input": "2021-03-31T15:43:46.646658Z",
     "iopub.status.busy": "2021-03-31T15:43:46.645694Z",
     "iopub.status.idle": "2021-03-31T15:43:46.652861Z",
     "shell.execute_reply": "2021-03-31T15:43:46.653377Z"
    },
    "papermill": {
     "duration": 0.044121,
     "end_time": "2021-03-31T15:43:46.653546",
     "exception": false,
     "start_time": "2021-03-31T15:43:46.609425",
     "status": "completed"
    },
    "tags": []
   },
   "outputs": [],
   "source": [
    "overall_data_c['Driver_name']=overall_data_c['forename']+ ' ' +overall_data_c['surname']"
   ]
  },
  {
   "cell_type": "code",
   "execution_count": 32,
   "metadata": {
    "execution": {
     "iopub.execute_input": "2021-03-31T15:43:46.739019Z",
     "iopub.status.busy": "2021-03-31T15:43:46.737933Z",
     "iopub.status.idle": "2021-03-31T15:43:46.781802Z",
     "shell.execute_reply": "2021-03-31T15:43:46.782359Z"
    },
    "papermill": {
     "duration": 0.094836,
     "end_time": "2021-03-31T15:43:46.782539",
     "exception": false,
     "start_time": "2021-03-31T15:43:46.687703",
     "status": "completed"
    },
    "tags": []
   },
   "outputs": [
    {
     "data": {
      "text/html": [
       "<div>\n",
       "<style scoped>\n",
       "    .dataframe tbody tr th:only-of-type {\n",
       "        vertical-align: middle;\n",
       "    }\n",
       "\n",
       "    .dataframe tbody tr th {\n",
       "        vertical-align: top;\n",
       "    }\n",
       "\n",
       "    .dataframe thead th {\n",
       "        text-align: right;\n",
       "    }\n",
       "</style>\n",
       "<table border=\"1\" class=\"dataframe\">\n",
       "  <thead>\n",
       "    <tr style=\"text-align: right;\">\n",
       "      <th></th>\n",
       "      <th>raceId</th>\n",
       "      <th>year</th>\n",
       "      <th>round</th>\n",
       "      <th>name</th>\n",
       "      <th>date</th>\n",
       "      <th>driverId</th>\n",
       "      <th>Driver_name</th>\n",
       "      <th>number</th>\n",
       "      <th>nationality</th>\n",
       "      <th>Age</th>\n",
       "      <th>...</th>\n",
       "      <th>time</th>\n",
       "      <th>milliseconds</th>\n",
       "      <th>fastestLap</th>\n",
       "      <th>fastestLapTime</th>\n",
       "      <th>fastestLapSpeed</th>\n",
       "      <th>Avg_lap_time</th>\n",
       "      <th>stop</th>\n",
       "      <th>avg_pit_ms</th>\n",
       "      <th>rank</th>\n",
       "      <th>status</th>\n",
       "    </tr>\n",
       "  </thead>\n",
       "  <tbody>\n",
       "    <tr>\n",
       "      <th>0</th>\n",
       "      <td>841.0</td>\n",
       "      <td>2011.0</td>\n",
       "      <td>1.0</td>\n",
       "      <td>Australian Grand Prix</td>\n",
       "      <td>27-03-2011</td>\n",
       "      <td>20.0</td>\n",
       "      <td>Sebastian Vettel</td>\n",
       "      <td>1</td>\n",
       "      <td>German</td>\n",
       "      <td>34</td>\n",
       "      <td>...</td>\n",
       "      <td>1:29:30.259</td>\n",
       "      <td>5370259</td>\n",
       "      <td>44</td>\n",
       "      <td>1:29.844</td>\n",
       "      <td>212.488</td>\n",
       "      <td>92590.672414</td>\n",
       "      <td>2.0</td>\n",
       "      <td>23319.500000</td>\n",
       "      <td>4</td>\n",
       "      <td>Finished</td>\n",
       "    </tr>\n",
       "    <tr>\n",
       "      <th>1</th>\n",
       "      <td>842.0</td>\n",
       "      <td>2011.0</td>\n",
       "      <td>2.0</td>\n",
       "      <td>Malaysian Grand Prix</td>\n",
       "      <td>10-04-2011</td>\n",
       "      <td>20.0</td>\n",
       "      <td>Sebastian Vettel</td>\n",
       "      <td>1</td>\n",
       "      <td>German</td>\n",
       "      <td>34</td>\n",
       "      <td>...</td>\n",
       "      <td>1:37:39.832</td>\n",
       "      <td>5859832</td>\n",
       "      <td>33</td>\n",
       "      <td>1:41.539</td>\n",
       "      <td>196.523</td>\n",
       "      <td>104639.857143</td>\n",
       "      <td>3.0</td>\n",
       "      <td>22408.333333</td>\n",
       "      <td>6</td>\n",
       "      <td>Finished</td>\n",
       "    </tr>\n",
       "    <tr>\n",
       "      <th>2</th>\n",
       "      <td>843.0</td>\n",
       "      <td>2011.0</td>\n",
       "      <td>3.0</td>\n",
       "      <td>Chinese Grand Prix</td>\n",
       "      <td>17-04-2011</td>\n",
       "      <td>20.0</td>\n",
       "      <td>Sebastian Vettel</td>\n",
       "      <td>1</td>\n",
       "      <td>German</td>\n",
       "      <td>34</td>\n",
       "      <td>...</td>\n",
       "      <td>+5.198</td>\n",
       "      <td>5823424</td>\n",
       "      <td>47</td>\n",
       "      <td>1:41.321</td>\n",
       "      <td>193.677</td>\n",
       "      <td>103989.714286</td>\n",
       "      <td>2.0</td>\n",
       "      <td>21764.000000</td>\n",
       "      <td>8</td>\n",
       "      <td>Finished</td>\n",
       "    </tr>\n",
       "    <tr>\n",
       "      <th>3</th>\n",
       "      <td>844.0</td>\n",
       "      <td>2011.0</td>\n",
       "      <td>4.0</td>\n",
       "      <td>Turkish Grand Prix</td>\n",
       "      <td>08-05-2011</td>\n",
       "      <td>20.0</td>\n",
       "      <td>Sebastian Vettel</td>\n",
       "      <td>1</td>\n",
       "      <td>German</td>\n",
       "      <td>34</td>\n",
       "      <td>...</td>\n",
       "      <td>1:30:17.558</td>\n",
       "      <td>5417558</td>\n",
       "      <td>50</td>\n",
       "      <td>1:29.937</td>\n",
       "      <td>213.669</td>\n",
       "      <td>93406.172414</td>\n",
       "      <td>4.0</td>\n",
       "      <td>20402.250000</td>\n",
       "      <td>3</td>\n",
       "      <td>Finished</td>\n",
       "    </tr>\n",
       "    <tr>\n",
       "      <th>4</th>\n",
       "      <td>845.0</td>\n",
       "      <td>2011.0</td>\n",
       "      <td>5.0</td>\n",
       "      <td>Spanish Grand Prix</td>\n",
       "      <td>22-05-2011</td>\n",
       "      <td>20.0</td>\n",
       "      <td>Sebastian Vettel</td>\n",
       "      <td>1</td>\n",
       "      <td>German</td>\n",
       "      <td>34</td>\n",
       "      <td>...</td>\n",
       "      <td>1:39:03.301</td>\n",
       "      <td>5943301</td>\n",
       "      <td>60</td>\n",
       "      <td>1:27.162</td>\n",
       "      <td>192.262</td>\n",
       "      <td>90050.015152</td>\n",
       "      <td>4.0</td>\n",
       "      <td>20214.500000</td>\n",
       "      <td>4</td>\n",
       "      <td>Finished</td>\n",
       "    </tr>\n",
       "  </tbody>\n",
       "</table>\n",
       "<p>5 rows × 32 columns</p>\n",
       "</div>"
      ],
      "text/plain": [
       "   raceId    year  round                   name        date  driverId  \\\n",
       "0   841.0  2011.0    1.0  Australian Grand Prix  27-03-2011      20.0   \n",
       "1   842.0  2011.0    2.0   Malaysian Grand Prix  10-04-2011      20.0   \n",
       "2   843.0  2011.0    3.0     Chinese Grand Prix  17-04-2011      20.0   \n",
       "3   844.0  2011.0    4.0     Turkish Grand Prix  08-05-2011      20.0   \n",
       "4   845.0  2011.0    5.0     Spanish Grand Prix  22-05-2011      20.0   \n",
       "\n",
       "        Driver_name number nationality  Age  ...         time milliseconds  \\\n",
       "0  Sebastian Vettel      1      German   34  ...  1:29:30.259      5370259   \n",
       "1  Sebastian Vettel      1      German   34  ...  1:37:39.832      5859832   \n",
       "2  Sebastian Vettel      1      German   34  ...       +5.198      5823424   \n",
       "3  Sebastian Vettel      1      German   34  ...  1:30:17.558      5417558   \n",
       "4  Sebastian Vettel      1      German   34  ...  1:39:03.301      5943301   \n",
       "\n",
       "  fastestLap  fastestLapTime fastestLapSpeed   Avg_lap_time stop  \\\n",
       "0         44        1:29.844         212.488   92590.672414  2.0   \n",
       "1         33        1:41.539         196.523  104639.857143  3.0   \n",
       "2         47        1:41.321         193.677  103989.714286  2.0   \n",
       "3         50        1:29.937         213.669   93406.172414  4.0   \n",
       "4         60        1:27.162         192.262   90050.015152  4.0   \n",
       "\n",
       "     avg_pit_ms  rank    status  \n",
       "0  23319.500000     4  Finished  \n",
       "1  22408.333333     6  Finished  \n",
       "2  21764.000000     8  Finished  \n",
       "3  20402.250000     3  Finished  \n",
       "4  20214.500000     4  Finished  \n",
       "\n",
       "[5 rows x 32 columns]"
      ]
     },
     "execution_count": 32,
     "metadata": {},
     "output_type": "execute_result"
    }
   ],
   "source": [
    "overall_drop=['circuitId','race_time','total_laps','forename','surname']\n",
    "overall_data=overall_data_c.drop(columns=overall_drop,axis=1)\n",
    "columns_order=['raceId','year','round','name','date','driverId','Driver_name','number','nationality','Age','constructorId','Cons_name','Cons_nationality','q_pos','q1','q2','q3','grid','positionOrder','position','points','laps','time','milliseconds','fastestLap','fastestLapTime','fastestLapSpeed','Avg_lap_time','stop','avg_pit_ms','rank','status']\n",
    "overall_data=overall_data[columns_order]\n",
    "overall_data.head()"
   ]
  },
  {
   "cell_type": "code",
   "execution_count": 33,
   "metadata": {
    "execution": {
     "iopub.execute_input": "2021-03-31T15:43:46.884032Z",
     "iopub.status.busy": "2021-03-31T15:43:46.883235Z",
     "iopub.status.idle": "2021-03-31T15:43:46.891365Z",
     "shell.execute_reply": "2021-03-31T15:43:46.890843Z"
    },
    "papermill": {
     "duration": 0.057421,
     "end_time": "2021-03-31T15:43:46.891498",
     "exception": false,
     "start_time": "2021-03-31T15:43:46.834077",
     "status": "completed"
    },
    "tags": []
   },
   "outputs": [
    {
     "data": {
      "text/plain": [
       "raceId              0\n",
       "year                0\n",
       "round               0\n",
       "name                0\n",
       "date                0\n",
       "driverId            0\n",
       "Driver_name         0\n",
       "number              0\n",
       "nationality         0\n",
       "Age                 0\n",
       "constructorId       0\n",
       "Cons_name           0\n",
       "Cons_nationality    0\n",
       "q_pos               0\n",
       "q1                  0\n",
       "q2                  0\n",
       "q3                  0\n",
       "grid                0\n",
       "positionOrder       0\n",
       "position            0\n",
       "points              0\n",
       "laps                0\n",
       "time                0\n",
       "milliseconds        0\n",
       "fastestLap          0\n",
       "fastestLapTime      0\n",
       "fastestLapSpeed     0\n",
       "Avg_lap_time        0\n",
       "stop                0\n",
       "avg_pit_ms          0\n",
       "rank                0\n",
       "status              0\n",
       "dtype: int64"
      ]
     },
     "execution_count": 33,
     "metadata": {},
     "output_type": "execute_result"
    }
   ],
   "source": [
    "overall_data.isnull().sum()\n",
    "#overall_data.shape\n",
    "# overall_data.tail()"
   ]
  }
 ],
 "metadata": {
  "kernelspec": {
   "display_name": "Python 3",
   "language": "python",
   "name": "python3"
  },
  "language_info": {
   "codemirror_mode": {
    "name": "ipython",
    "version": 3
   },
   "file_extension": ".py",
   "mimetype": "text/x-python",
   "name": "python",
   "nbconvert_exporter": "python",
   "pygments_lexer": "ipython3",
   "version": "3.7.9"
  },
  "papermill": {
   "default_parameters": {},
   "duration": 10.542017,
   "end_time": "2021-03-31T15:43:47.536529",
   "environment_variables": {},
   "exception": null,
   "input_path": "__notebook__.ipynb",
   "output_path": "__notebook__.ipynb",
   "parameters": {},
   "start_time": "2021-03-31T15:43:36.994512",
   "version": "2.2.2"
  }
 },
 "nbformat": 4,
 "nbformat_minor": 4
}
